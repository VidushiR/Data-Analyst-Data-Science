{
 "cells": [
  {
   "cell_type": "code",
   "execution_count": 1,
   "id": "72d9332a",
   "metadata": {
    "execution": {
     "iopub.execute_input": "2023-04-26T17:44:20.043226Z",
     "iopub.status.busy": "2023-04-26T17:44:20.042255Z",
     "iopub.status.idle": "2023-04-26T17:44:21.056311Z",
     "shell.execute_reply": "2023-04-26T17:44:21.055204Z"
    },
    "papermill": {
     "duration": 1.028745,
     "end_time": "2023-04-26T17:44:21.058733",
     "exception": false,
     "start_time": "2023-04-26T17:44:20.029988",
     "status": "completed"
    },
    "tags": []
   },
   "outputs": [],
   "source": [
    "import pandas as pd\n",
    "import numpy as np\n",
    "import seaborn as sns\n",
    "import datetime\n",
    "import matplotlib.pyplot as plt\n"
   ]
  },
  {
   "cell_type": "code",
   "execution_count": 2,
   "id": "e5bce38a",
   "metadata": {
    "execution": {
     "iopub.execute_input": "2023-04-26T17:44:21.079196Z",
     "iopub.status.busy": "2023-04-26T17:44:21.078792Z",
     "iopub.status.idle": "2023-04-26T17:44:21.083369Z",
     "shell.execute_reply": "2023-04-26T17:44:21.082379Z"
    },
    "papermill": {
     "duration": 0.017131,
     "end_time": "2023-04-26T17:44:21.085474",
     "exception": false,
     "start_time": "2023-04-26T17:44:21.068343",
     "status": "completed"
    },
    "tags": []
   },
   "outputs": [],
   "source": [
    "import glob"
   ]
  },
  {
   "cell_type": "code",
   "execution_count": 3,
   "id": "62952e21",
   "metadata": {
    "execution": {
     "iopub.execute_input": "2023-04-26T17:44:21.109978Z",
     "iopub.status.busy": "2023-04-26T17:44:21.109504Z",
     "iopub.status.idle": "2023-04-26T17:44:21.114095Z",
     "shell.execute_reply": "2023-04-26T17:44:21.113283Z"
    },
    "papermill": {
     "duration": 0.019197,
     "end_time": "2023-04-26T17:44:21.116002",
     "exception": false,
     "start_time": "2023-04-26T17:44:21.096805",
     "status": "completed"
    },
    "tags": []
   },
   "outputs": [],
   "source": [
    "import os\n"
   ]
  },
  {
   "cell_type": "code",
   "execution_count": 4,
   "id": "d45563b1",
   "metadata": {
    "execution": {
     "iopub.execute_input": "2023-04-26T17:44:21.138711Z",
     "iopub.status.busy": "2023-04-26T17:44:21.138288Z",
     "iopub.status.idle": "2023-04-26T17:44:21.228758Z",
     "shell.execute_reply": "2023-04-26T17:44:21.227401Z"
    },
    "papermill": {
     "duration": 0.103432,
     "end_time": "2023-04-26T17:44:21.230459",
     "exception": true,
     "start_time": "2023-04-26T17:44:21.127027",
     "status": "failed"
    },
    "tags": []
   },
   "outputs": [
    {
     "ename": "FileNotFoundError",
     "evalue": "[Errno 2] No such file or directory: '202203-divvy-tripdata.csv'",
     "output_type": "error",
     "traceback": [
      "\u001b[0;31m---------------------------------------------------------------------------\u001b[0m",
      "\u001b[0;31mFileNotFoundError\u001b[0m                         Traceback (most recent call last)",
      "\u001b[0;32m/tmp/ipykernel_19/878410403.py\u001b[0m in \u001b[0;36m<module>\u001b[0;34m\u001b[0m\n\u001b[1;32m      1\u001b[0m \u001b[0;31m#defining the variable df1 to df12 and importing the datasets\u001b[0m\u001b[0;34m\u001b[0m\u001b[0;34m\u001b[0m\u001b[0;34m\u001b[0m\u001b[0m\n\u001b[1;32m      2\u001b[0m \u001b[0;34m\u001b[0m\u001b[0m\n\u001b[0;32m----> 3\u001b[0;31m \u001b[0mdf1\u001b[0m \u001b[0;34m=\u001b[0m \u001b[0mpd\u001b[0m\u001b[0;34m.\u001b[0m\u001b[0mread_csv\u001b[0m\u001b[0;34m(\u001b[0m\u001b[0;34m'202203-divvy-tripdata.csv'\u001b[0m\u001b[0;34m)\u001b[0m\u001b[0;34m\u001b[0m\u001b[0;34m\u001b[0m\u001b[0m\n\u001b[0m\u001b[1;32m      4\u001b[0m \u001b[0mdf2\u001b[0m \u001b[0;34m=\u001b[0m \u001b[0mpd\u001b[0m\u001b[0;34m.\u001b[0m\u001b[0mread_csv\u001b[0m\u001b[0;34m(\u001b[0m\u001b[0;34m'202204-divvy-tripdata.csv'\u001b[0m\u001b[0;34m)\u001b[0m\u001b[0;34m\u001b[0m\u001b[0;34m\u001b[0m\u001b[0m\n\u001b[1;32m      5\u001b[0m \u001b[0mdf3\u001b[0m \u001b[0;34m=\u001b[0m \u001b[0mpd\u001b[0m\u001b[0;34m.\u001b[0m\u001b[0mread_csv\u001b[0m\u001b[0;34m(\u001b[0m\u001b[0;34m'202205-divvy-tripdata.csv'\u001b[0m\u001b[0;34m)\u001b[0m\u001b[0;34m\u001b[0m\u001b[0;34m\u001b[0m\u001b[0m\n",
      "\u001b[0;32m/opt/conda/lib/python3.7/site-packages/pandas/util/_decorators.py\u001b[0m in \u001b[0;36mwrapper\u001b[0;34m(*args, **kwargs)\u001b[0m\n\u001b[1;32m    309\u001b[0m                     \u001b[0mstacklevel\u001b[0m\u001b[0;34m=\u001b[0m\u001b[0mstacklevel\u001b[0m\u001b[0;34m,\u001b[0m\u001b[0;34m\u001b[0m\u001b[0;34m\u001b[0m\u001b[0m\n\u001b[1;32m    310\u001b[0m                 )\n\u001b[0;32m--> 311\u001b[0;31m             \u001b[0;32mreturn\u001b[0m \u001b[0mfunc\u001b[0m\u001b[0;34m(\u001b[0m\u001b[0;34m*\u001b[0m\u001b[0margs\u001b[0m\u001b[0;34m,\u001b[0m \u001b[0;34m**\u001b[0m\u001b[0mkwargs\u001b[0m\u001b[0;34m)\u001b[0m\u001b[0;34m\u001b[0m\u001b[0;34m\u001b[0m\u001b[0m\n\u001b[0m\u001b[1;32m    312\u001b[0m \u001b[0;34m\u001b[0m\u001b[0m\n\u001b[1;32m    313\u001b[0m         \u001b[0;32mreturn\u001b[0m \u001b[0mwrapper\u001b[0m\u001b[0;34m\u001b[0m\u001b[0;34m\u001b[0m\u001b[0m\n",
      "\u001b[0;32m/opt/conda/lib/python3.7/site-packages/pandas/io/parsers/readers.py\u001b[0m in \u001b[0;36mread_csv\u001b[0;34m(filepath_or_buffer, sep, delimiter, header, names, index_col, usecols, squeeze, prefix, mangle_dupe_cols, dtype, engine, converters, true_values, false_values, skipinitialspace, skiprows, skipfooter, nrows, na_values, keep_default_na, na_filter, verbose, skip_blank_lines, parse_dates, infer_datetime_format, keep_date_col, date_parser, dayfirst, cache_dates, iterator, chunksize, compression, thousands, decimal, lineterminator, quotechar, quoting, doublequote, escapechar, comment, encoding, encoding_errors, dialect, error_bad_lines, warn_bad_lines, on_bad_lines, delim_whitespace, low_memory, memory_map, float_precision, storage_options)\u001b[0m\n\u001b[1;32m    584\u001b[0m     \u001b[0mkwds\u001b[0m\u001b[0;34m.\u001b[0m\u001b[0mupdate\u001b[0m\u001b[0;34m(\u001b[0m\u001b[0mkwds_defaults\u001b[0m\u001b[0;34m)\u001b[0m\u001b[0;34m\u001b[0m\u001b[0;34m\u001b[0m\u001b[0m\n\u001b[1;32m    585\u001b[0m \u001b[0;34m\u001b[0m\u001b[0m\n\u001b[0;32m--> 586\u001b[0;31m     \u001b[0;32mreturn\u001b[0m \u001b[0m_read\u001b[0m\u001b[0;34m(\u001b[0m\u001b[0mfilepath_or_buffer\u001b[0m\u001b[0;34m,\u001b[0m \u001b[0mkwds\u001b[0m\u001b[0;34m)\u001b[0m\u001b[0;34m\u001b[0m\u001b[0;34m\u001b[0m\u001b[0m\n\u001b[0m\u001b[1;32m    587\u001b[0m \u001b[0;34m\u001b[0m\u001b[0m\n\u001b[1;32m    588\u001b[0m \u001b[0;34m\u001b[0m\u001b[0m\n",
      "\u001b[0;32m/opt/conda/lib/python3.7/site-packages/pandas/io/parsers/readers.py\u001b[0m in \u001b[0;36m_read\u001b[0;34m(filepath_or_buffer, kwds)\u001b[0m\n\u001b[1;32m    480\u001b[0m \u001b[0;34m\u001b[0m\u001b[0m\n\u001b[1;32m    481\u001b[0m     \u001b[0;31m# Create the parser.\u001b[0m\u001b[0;34m\u001b[0m\u001b[0;34m\u001b[0m\u001b[0;34m\u001b[0m\u001b[0m\n\u001b[0;32m--> 482\u001b[0;31m     \u001b[0mparser\u001b[0m \u001b[0;34m=\u001b[0m \u001b[0mTextFileReader\u001b[0m\u001b[0;34m(\u001b[0m\u001b[0mfilepath_or_buffer\u001b[0m\u001b[0;34m,\u001b[0m \u001b[0;34m**\u001b[0m\u001b[0mkwds\u001b[0m\u001b[0;34m)\u001b[0m\u001b[0;34m\u001b[0m\u001b[0;34m\u001b[0m\u001b[0m\n\u001b[0m\u001b[1;32m    483\u001b[0m \u001b[0;34m\u001b[0m\u001b[0m\n\u001b[1;32m    484\u001b[0m     \u001b[0;32mif\u001b[0m \u001b[0mchunksize\u001b[0m \u001b[0;32mor\u001b[0m \u001b[0miterator\u001b[0m\u001b[0;34m:\u001b[0m\u001b[0;34m\u001b[0m\u001b[0;34m\u001b[0m\u001b[0m\n",
      "\u001b[0;32m/opt/conda/lib/python3.7/site-packages/pandas/io/parsers/readers.py\u001b[0m in \u001b[0;36m__init__\u001b[0;34m(self, f, engine, **kwds)\u001b[0m\n\u001b[1;32m    809\u001b[0m             \u001b[0mself\u001b[0m\u001b[0;34m.\u001b[0m\u001b[0moptions\u001b[0m\u001b[0;34m[\u001b[0m\u001b[0;34m\"has_index_names\"\u001b[0m\u001b[0;34m]\u001b[0m \u001b[0;34m=\u001b[0m \u001b[0mkwds\u001b[0m\u001b[0;34m[\u001b[0m\u001b[0;34m\"has_index_names\"\u001b[0m\u001b[0;34m]\u001b[0m\u001b[0;34m\u001b[0m\u001b[0;34m\u001b[0m\u001b[0m\n\u001b[1;32m    810\u001b[0m \u001b[0;34m\u001b[0m\u001b[0m\n\u001b[0;32m--> 811\u001b[0;31m         \u001b[0mself\u001b[0m\u001b[0;34m.\u001b[0m\u001b[0m_engine\u001b[0m \u001b[0;34m=\u001b[0m \u001b[0mself\u001b[0m\u001b[0;34m.\u001b[0m\u001b[0m_make_engine\u001b[0m\u001b[0;34m(\u001b[0m\u001b[0mself\u001b[0m\u001b[0;34m.\u001b[0m\u001b[0mengine\u001b[0m\u001b[0;34m)\u001b[0m\u001b[0;34m\u001b[0m\u001b[0;34m\u001b[0m\u001b[0m\n\u001b[0m\u001b[1;32m    812\u001b[0m \u001b[0;34m\u001b[0m\u001b[0m\n\u001b[1;32m    813\u001b[0m     \u001b[0;32mdef\u001b[0m \u001b[0mclose\u001b[0m\u001b[0;34m(\u001b[0m\u001b[0mself\u001b[0m\u001b[0;34m)\u001b[0m\u001b[0;34m:\u001b[0m\u001b[0;34m\u001b[0m\u001b[0;34m\u001b[0m\u001b[0m\n",
      "\u001b[0;32m/opt/conda/lib/python3.7/site-packages/pandas/io/parsers/readers.py\u001b[0m in \u001b[0;36m_make_engine\u001b[0;34m(self, engine)\u001b[0m\n\u001b[1;32m   1038\u001b[0m             )\n\u001b[1;32m   1039\u001b[0m         \u001b[0;31m# error: Too many arguments for \"ParserBase\"\u001b[0m\u001b[0;34m\u001b[0m\u001b[0;34m\u001b[0m\u001b[0;34m\u001b[0m\u001b[0m\n\u001b[0;32m-> 1040\u001b[0;31m         \u001b[0;32mreturn\u001b[0m \u001b[0mmapping\u001b[0m\u001b[0;34m[\u001b[0m\u001b[0mengine\u001b[0m\u001b[0;34m]\u001b[0m\u001b[0;34m(\u001b[0m\u001b[0mself\u001b[0m\u001b[0;34m.\u001b[0m\u001b[0mf\u001b[0m\u001b[0;34m,\u001b[0m \u001b[0;34m**\u001b[0m\u001b[0mself\u001b[0m\u001b[0;34m.\u001b[0m\u001b[0moptions\u001b[0m\u001b[0;34m)\u001b[0m  \u001b[0;31m# type: ignore[call-arg]\u001b[0m\u001b[0;34m\u001b[0m\u001b[0;34m\u001b[0m\u001b[0m\n\u001b[0m\u001b[1;32m   1041\u001b[0m \u001b[0;34m\u001b[0m\u001b[0m\n\u001b[1;32m   1042\u001b[0m     \u001b[0;32mdef\u001b[0m \u001b[0m_failover_to_python\u001b[0m\u001b[0;34m(\u001b[0m\u001b[0mself\u001b[0m\u001b[0;34m)\u001b[0m\u001b[0;34m:\u001b[0m\u001b[0;34m\u001b[0m\u001b[0;34m\u001b[0m\u001b[0m\n",
      "\u001b[0;32m/opt/conda/lib/python3.7/site-packages/pandas/io/parsers/c_parser_wrapper.py\u001b[0m in \u001b[0;36m__init__\u001b[0;34m(self, src, **kwds)\u001b[0m\n\u001b[1;32m     49\u001b[0m \u001b[0;34m\u001b[0m\u001b[0m\n\u001b[1;32m     50\u001b[0m         \u001b[0;31m# open handles\u001b[0m\u001b[0;34m\u001b[0m\u001b[0;34m\u001b[0m\u001b[0;34m\u001b[0m\u001b[0m\n\u001b[0;32m---> 51\u001b[0;31m         \u001b[0mself\u001b[0m\u001b[0;34m.\u001b[0m\u001b[0m_open_handles\u001b[0m\u001b[0;34m(\u001b[0m\u001b[0msrc\u001b[0m\u001b[0;34m,\u001b[0m \u001b[0mkwds\u001b[0m\u001b[0;34m)\u001b[0m\u001b[0;34m\u001b[0m\u001b[0;34m\u001b[0m\u001b[0m\n\u001b[0m\u001b[1;32m     52\u001b[0m         \u001b[0;32massert\u001b[0m \u001b[0mself\u001b[0m\u001b[0;34m.\u001b[0m\u001b[0mhandles\u001b[0m \u001b[0;32mis\u001b[0m \u001b[0;32mnot\u001b[0m \u001b[0;32mNone\u001b[0m\u001b[0;34m\u001b[0m\u001b[0;34m\u001b[0m\u001b[0m\n\u001b[1;32m     53\u001b[0m \u001b[0;34m\u001b[0m\u001b[0m\n",
      "\u001b[0;32m/opt/conda/lib/python3.7/site-packages/pandas/io/parsers/base_parser.py\u001b[0m in \u001b[0;36m_open_handles\u001b[0;34m(self, src, kwds)\u001b[0m\n\u001b[1;32m    227\u001b[0m             \u001b[0mmemory_map\u001b[0m\u001b[0;34m=\u001b[0m\u001b[0mkwds\u001b[0m\u001b[0;34m.\u001b[0m\u001b[0mget\u001b[0m\u001b[0;34m(\u001b[0m\u001b[0;34m\"memory_map\"\u001b[0m\u001b[0;34m,\u001b[0m \u001b[0;32mFalse\u001b[0m\u001b[0;34m)\u001b[0m\u001b[0;34m,\u001b[0m\u001b[0;34m\u001b[0m\u001b[0;34m\u001b[0m\u001b[0m\n\u001b[1;32m    228\u001b[0m             \u001b[0mstorage_options\u001b[0m\u001b[0;34m=\u001b[0m\u001b[0mkwds\u001b[0m\u001b[0;34m.\u001b[0m\u001b[0mget\u001b[0m\u001b[0;34m(\u001b[0m\u001b[0;34m\"storage_options\"\u001b[0m\u001b[0;34m,\u001b[0m \u001b[0;32mNone\u001b[0m\u001b[0;34m)\u001b[0m\u001b[0;34m,\u001b[0m\u001b[0;34m\u001b[0m\u001b[0;34m\u001b[0m\u001b[0m\n\u001b[0;32m--> 229\u001b[0;31m             \u001b[0merrors\u001b[0m\u001b[0;34m=\u001b[0m\u001b[0mkwds\u001b[0m\u001b[0;34m.\u001b[0m\u001b[0mget\u001b[0m\u001b[0;34m(\u001b[0m\u001b[0;34m\"encoding_errors\"\u001b[0m\u001b[0;34m,\u001b[0m \u001b[0;34m\"strict\"\u001b[0m\u001b[0;34m)\u001b[0m\u001b[0;34m,\u001b[0m\u001b[0;34m\u001b[0m\u001b[0;34m\u001b[0m\u001b[0m\n\u001b[0m\u001b[1;32m    230\u001b[0m         )\n\u001b[1;32m    231\u001b[0m \u001b[0;34m\u001b[0m\u001b[0m\n",
      "\u001b[0;32m/opt/conda/lib/python3.7/site-packages/pandas/io/common.py\u001b[0m in \u001b[0;36mget_handle\u001b[0;34m(path_or_buf, mode, encoding, compression, memory_map, is_text, errors, storage_options)\u001b[0m\n\u001b[1;32m    705\u001b[0m                 \u001b[0mencoding\u001b[0m\u001b[0;34m=\u001b[0m\u001b[0mioargs\u001b[0m\u001b[0;34m.\u001b[0m\u001b[0mencoding\u001b[0m\u001b[0;34m,\u001b[0m\u001b[0;34m\u001b[0m\u001b[0;34m\u001b[0m\u001b[0m\n\u001b[1;32m    706\u001b[0m                 \u001b[0merrors\u001b[0m\u001b[0;34m=\u001b[0m\u001b[0merrors\u001b[0m\u001b[0;34m,\u001b[0m\u001b[0;34m\u001b[0m\u001b[0;34m\u001b[0m\u001b[0m\n\u001b[0;32m--> 707\u001b[0;31m                 \u001b[0mnewline\u001b[0m\u001b[0;34m=\u001b[0m\u001b[0;34m\"\"\u001b[0m\u001b[0;34m,\u001b[0m\u001b[0;34m\u001b[0m\u001b[0;34m\u001b[0m\u001b[0m\n\u001b[0m\u001b[1;32m    708\u001b[0m             )\n\u001b[1;32m    709\u001b[0m         \u001b[0;32melse\u001b[0m\u001b[0;34m:\u001b[0m\u001b[0;34m\u001b[0m\u001b[0;34m\u001b[0m\u001b[0m\n",
      "\u001b[0;31mFileNotFoundError\u001b[0m: [Errno 2] No such file or directory: '202203-divvy-tripdata.csv'"
     ]
    }
   ],
   "source": [
    "\n",
    "#defining the variable df1 to df12 and importing the datasets\n",
    "\n",
    "df1 = pd.read_csv('202203-divvy-tripdata.csv')\n",
    "df2 = pd.read_csv('202204-divvy-tripdata.csv')\n",
    "df3 = pd.read_csv('202205-divvy-tripdata.csv')\n",
    "df4 = pd.read_csv('202206-divvy-tripdata.csv')\n",
    "df5 = pd.read_csv('202207-divvy-tripdata.csv')\n",
    "df6 = pd.read_csv('202208-divvy-tripdata.csv')\n",
    "df7 = pd.read_csv('202209-divvy-publictripdata.csv')\n",
    "df8 = pd.read_csv('202210-divvy-tripdata.csv')\n",
    "df9 = pd.read_csv('202211-divvy-tripdata.csv')\n",
    "df10 = pd.read_csv('202212-divvy-tripdata.csv')\n",
    "df11 = pd.read_csv('202301-divvy-tripdata.csv')\n",
    "df12 = pd.read_csv('202302-divvy-tripdata.csv')\n",
    "\n"
   ]
  },
  {
   "cell_type": "code",
   "execution_count": null,
   "id": "d13807bc",
   "metadata": {
    "papermill": {
     "duration": null,
     "end_time": null,
     "exception": null,
     "start_time": null,
     "status": "pending"
    },
    "tags": []
   },
   "outputs": [],
   "source": [
    "#defining the variable df1 to df12 and importing the datasets\n",
    "\n",
    "df1 = pd.read_csv('202203-divvy-tripdata.csv')\n",
    "df2 = pd.read_csv('202204-divvy-tripdata.csv')\n",
    "df3 = pd.read_csv('202205-divvy-tripdata.csv')\n",
    "df4 = pd.read_csv('202206-divvy-tripdata.csv')\n",
    "df5 = pd.read_csv('202207-divvy-tripdata.csv')\n",
    "df6 = pd.read_csv('202208-divvy-tripdata.csv')\n",
    "df7 = pd.read_csv('202209-divvy-publictripdata.csv')\n",
    "df8 = pd.read_csv('202210-divvy-tripdata.csv')\n",
    "df9 = pd.read_csv('202211-divvy-tripdata.csv')\n",
    "df10 = pd.read_csv('202212-divvy-tripdata.csv')\n",
    "df11 = pd.read_csv('202301-divvy-tripdata.csv')\n",
    "df12 = pd.read_csv('202302-divvy-tripdata.csv')"
   ]
  },
  {
   "cell_type": "code",
   "execution_count": null,
   "id": "7c7f116f",
   "metadata": {
    "papermill": {
     "duration": null,
     "end_time": null,
     "exception": null,
     "start_time": null,
     "status": "pending"
    },
    "tags": []
   },
   "outputs": [],
   "source": [
    "#merging all data\n",
    "Cyclistic_data = pd.concat([df1, df2, df3, df4, df5, df6, df7, df8, df9, df10, df11, df12])\n",
    "Cyclistic_data.shape"
   ]
  },
  {
   "cell_type": "code",
   "execution_count": null,
   "id": "d2f11c6c",
   "metadata": {
    "papermill": {
     "duration": null,
     "end_time": null,
     "exception": null,
     "start_time": null,
     "status": "pending"
    },
    "tags": []
   },
   "outputs": [],
   "source": [
    "Cyclistic_data.head()"
   ]
  },
  {
   "cell_type": "code",
   "execution_count": null,
   "id": "f1ee905b",
   "metadata": {
    "papermill": {
     "duration": null,
     "end_time": null,
     "exception": null,
     "start_time": null,
     "status": "pending"
    },
    "tags": []
   },
   "outputs": [],
   "source": [
    "Cyclistic_data.info()"
   ]
  },
  {
   "cell_type": "code",
   "execution_count": null,
   "id": "18b55555",
   "metadata": {
    "papermill": {
     "duration": null,
     "end_time": null,
     "exception": null,
     "start_time": null,
     "status": "pending"
    },
    "tags": []
   },
   "outputs": [],
   "source": [
    "#creating a backup\n",
    "Cyclistic_data.to_csv('Cyclistic_data.csv')\n"
   ]
  },
  {
   "cell_type": "code",
   "execution_count": null,
   "id": "f495a60a",
   "metadata": {
    "papermill": {
     "duration": null,
     "end_time": null,
     "exception": null,
     "start_time": null,
     "status": "pending"
    },
    "tags": []
   },
   "outputs": [],
   "source": [
    "# change rideable_type to a categorical dtype from an object dtype\n",
    "Cyclistic_data['rideable_type']= Cyclistic_data.rideable_type.astype('category')"
   ]
  },
  {
   "cell_type": "code",
   "execution_count": null,
   "id": "b541f566",
   "metadata": {
    "papermill": {
     "duration": null,
     "end_time": null,
     "exception": null,
     "start_time": null,
     "status": "pending"
    },
    "tags": []
   },
   "outputs": [],
   "source": [
    "#change member_casual to a categorical dtype from an object dtype\n",
    "Cyclistic_data['member_casual']= Cyclistic_data.member_casual.astype('category')\n"
   ]
  },
  {
   "cell_type": "code",
   "execution_count": null,
   "id": "6e398c7c",
   "metadata": {
    "papermill": {
     "duration": null,
     "end_time": null,
     "exception": null,
     "start_time": null,
     "status": "pending"
    },
    "tags": []
   },
   "outputs": [],
   "source": [
    "# dropping the (start_lng, end_lat) and(start_lat, end_lat) columns from the dataset\n",
    "Cyclistic_data. drop(['start_lat', 'end_lat', 'start_lng', 'end_lng'], axis=1, inplace=True) "
   ]
  },
  {
   "cell_type": "code",
   "execution_count": null,
   "id": "14d04837",
   "metadata": {
    "papermill": {
     "duration": null,
     "end_time": null,
     "exception": null,
     "start_time": null,
     "status": "pending"
    },
    "tags": []
   },
   "outputs": [],
   "source": [
    "# changing the 'started_at' and 'ended_at' dtype to datetime\n",
    "Cyclistic_data['started_at']= pd.to_datetime(Cyclistic_data.started_at)\n",
    "Cyclistic_data['ended_at']= pd.to_datetime(Cyclistic_data.ended_at)"
   ]
  },
  {
   "cell_type": "code",
   "execution_count": null,
   "id": "9550abf5",
   "metadata": {
    "papermill": {
     "duration": null,
     "end_time": null,
     "exception": null,
     "start_time": null,
     "status": "pending"
    },
    "tags": []
   },
   "outputs": [],
   "source": [
    "#finding missing values\n",
    "Cyclistic_data.isnull().sum() "
   ]
  },
  {
   "cell_type": "code",
   "execution_count": null,
   "id": "1c7ffd4e",
   "metadata": {
    "papermill": {
     "duration": null,
     "end_time": null,
     "exception": null,
     "start_time": null,
     "status": "pending"
    },
    "tags": []
   },
   "outputs": [],
   "source": [
    "Cyclistic_data.info()"
   ]
  },
  {
   "cell_type": "code",
   "execution_count": null,
   "id": "d82120df",
   "metadata": {
    "papermill": {
     "duration": null,
     "end_time": null,
     "exception": null,
     "start_time": null,
     "status": "pending"
    },
    "tags": []
   },
   "outputs": [],
   "source": [
    "#adding a new column \"ride_length\" (ended_at-started_at) to calculate the time travelled\n",
    "Cyclistic_data['ride_length'] = Cyclistic_data['ended_at'] - Cyclistic_data['started_at']\n",
    "Cyclistic_data['ride_length']"
   ]
  },
  {
   "cell_type": "code",
   "execution_count": null,
   "id": "134962f3",
   "metadata": {
    "papermill": {
     "duration": null,
     "end_time": null,
     "exception": null,
     "start_time": null,
     "status": "pending"
    },
    "tags": []
   },
   "outputs": [],
   "source": [
    "Cyclistic_data.info()\n"
   ]
  },
  {
   "cell_type": "code",
   "execution_count": null,
   "id": "01edb91f",
   "metadata": {
    "papermill": {
     "duration": null,
     "end_time": null,
     "exception": null,
     "start_time": null,
     "status": "pending"
    },
    "tags": []
   },
   "outputs": [],
   "source": [
    "# splitting and extracting the date from the 'started_at' column\n",
    "Cyclistic_data['start_date'] = Cyclistic_data.started_at.dt.date\n",
    "Cyclistic_data.start_date.head()\n"
   ]
  },
  {
   "cell_type": "code",
   "execution_count": null,
   "id": "cc0ccf63",
   "metadata": {
    "papermill": {
     "duration": null,
     "end_time": null,
     "exception": null,
     "start_time": null,
     "status": "pending"
    },
    "scrolled": true,
    "tags": []
   },
   "outputs": [],
   "source": [
    "# converting 'day_of_week' into a datetime dtype\n",
    "Cyclistic_data['start_date']= pd.to_datetime(Cyclistic_data.start_date)\n",
    "Cyclistic_data.dtypes"
   ]
  },
  {
   "cell_type": "code",
   "execution_count": null,
   "id": "dce6492f",
   "metadata": {
    "papermill": {
     "duration": null,
     "end_time": null,
     "exception": null,
     "start_time": null,
     "status": "pending"
    },
    "tags": []
   },
   "outputs": [],
   "source": [
    "# finding the weekday of the date \n",
    "Cyclistic_data['day_name'] = Cyclistic_data['start_date'].dt.day_name()\n",
    "Cyclistic_data['day_name'].unique()\n"
   ]
  },
  {
   "cell_type": "code",
   "execution_count": null,
   "id": "a8ea16f9",
   "metadata": {
    "papermill": {
     "duration": null,
     "end_time": null,
     "exception": null,
     "start_time": null,
     "status": "pending"
    },
    "tags": []
   },
   "outputs": [],
   "source": [
    "# changing day_name to  categorical dtype\n",
    "Cyclistic_data['day_name']= Cyclistic_data.day_name.astype('category')\n",
    "Cyclistic_data.info()"
   ]
  },
  {
   "cell_type": "code",
   "execution_count": null,
   "id": "d3624c64",
   "metadata": {
    "papermill": {
     "duration": null,
     "end_time": null,
     "exception": null,
     "start_time": null,
     "status": "pending"
    },
    "tags": []
   },
   "outputs": [],
   "source": [
    "Cyclistic_data['year'] = pd.DatetimeIndex(Cyclistic_data['start_date']).year\n",
    "Cyclistic_data['month'] = pd.DatetimeIndex(Cyclistic_data['start_date']).month"
   ]
  },
  {
   "cell_type": "code",
   "execution_count": null,
   "id": "6220725b",
   "metadata": {
    "papermill": {
     "duration": null,
     "end_time": null,
     "exception": null,
     "start_time": null,
     "status": "pending"
    },
    "tags": []
   },
   "outputs": [],
   "source": [
    "Cyclistic_data.info()\n"
   ]
  },
  {
   "cell_type": "code",
   "execution_count": null,
   "id": "79c7f47c",
   "metadata": {
    "papermill": {
     "duration": null,
     "end_time": null,
     "exception": null,
     "start_time": null,
     "status": "pending"
    },
    "tags": []
   },
   "outputs": [],
   "source": [
    "Cyclistic_data.head()\n"
   ]
  },
  {
   "cell_type": "code",
   "execution_count": null,
   "id": "1620f2db",
   "metadata": {
    "papermill": {
     "duration": null,
     "end_time": null,
     "exception": null,
     "start_time": null,
     "status": "pending"
    },
    "tags": []
   },
   "outputs": [],
   "source": [
    "# sort the dataframe by ascending using start date\n",
    "Cyclistic_data.sort_values(by=['started_at'], inplace= True, ascending= True)"
   ]
  },
  {
   "cell_type": "code",
   "execution_count": null,
   "id": "58e30368",
   "metadata": {
    "papermill": {
     "duration": null,
     "end_time": null,
     "exception": null,
     "start_time": null,
     "status": "pending"
    },
    "tags": []
   },
   "outputs": [],
   "source": [
    "Cyclistic_data.isnull().sum()"
   ]
  },
  {
   "cell_type": "code",
   "execution_count": null,
   "id": "1b91253f",
   "metadata": {
    "papermill": {
     "duration": null,
     "end_time": null,
     "exception": null,
     "start_time": null,
     "status": "pending"
    },
    "tags": []
   },
   "outputs": [],
   "source": [
    "Cyclistic_data.shape"
   ]
  },
  {
   "cell_type": "code",
   "execution_count": null,
   "id": "ab89eb63",
   "metadata": {
    "papermill": {
     "duration": null,
     "end_time": null,
     "exception": null,
     "start_time": null,
     "status": "pending"
    },
    "tags": []
   },
   "outputs": [],
   "source": [
    "Cyclistic_data.info\n"
   ]
  },
  {
   "cell_type": "code",
   "execution_count": null,
   "id": "c7b9bb6b",
   "metadata": {
    "papermill": {
     "duration": null,
     "end_time": null,
     "exception": null,
     "start_time": null,
     "status": "pending"
    },
    "tags": []
   },
   "outputs": [],
   "source": [
    "# finding the total percentage of null values in the dataset\n",
    "\n",
    "909179/5829084"
   ]
  },
  {
   "cell_type": "code",
   "execution_count": null,
   "id": "8664890f",
   "metadata": {
    "papermill": {
     "duration": null,
     "end_time": null,
     "exception": null,
     "start_time": null,
     "status": "pending"
    },
    "tags": []
   },
   "outputs": [],
   "source": [
    "# drop all rows with NAN values \n",
    "Cyclistic_data.dropna(inplace= True)"
   ]
  },
  {
   "cell_type": "code",
   "execution_count": null,
   "id": "ad886679",
   "metadata": {
    "papermill": {
     "duration": null,
     "end_time": null,
     "exception": null,
     "start_time": null,
     "status": "pending"
    },
    "tags": []
   },
   "outputs": [],
   "source": [
    "# to save the cleaned file\n",
    "Cyclistic_data.to_csv('Cyclistic_data_cleaned.csv')"
   ]
  },
  {
   "cell_type": "code",
   "execution_count": null,
   "id": "b58c2b3e",
   "metadata": {
    "papermill": {
     "duration": null,
     "end_time": null,
     "exception": null,
     "start_time": null,
     "status": "pending"
    },
    "tags": []
   },
   "outputs": [],
   "source": [
    "# print cleaned dataset\n",
    "Cyclistic_data.head()\n"
   ]
  },
  {
   "cell_type": "code",
   "execution_count": null,
   "id": "c6f53bb2",
   "metadata": {
    "papermill": {
     "duration": null,
     "end_time": null,
     "exception": null,
     "start_time": null,
     "status": "pending"
    },
    "tags": []
   },
   "outputs": [],
   "source": [
    "# check for null values in the clean dataset\n",
    "Cyclistic_data.isnull().sum()\n"
   ]
  },
  {
   "cell_type": "code",
   "execution_count": null,
   "id": "fbf17be1",
   "metadata": {
    "papermill": {
     "duration": null,
     "end_time": null,
     "exception": null,
     "start_time": null,
     "status": "pending"
    },
    "tags": []
   },
   "outputs": [],
   "source": [
    "# check for any duplicated values\n",
    "Cyclistic_data.duplicated().any()"
   ]
  },
  {
   "cell_type": "code",
   "execution_count": null,
   "id": "da991956",
   "metadata": {
    "papermill": {
     "duration": null,
     "end_time": null,
     "exception": null,
     "start_time": null,
     "status": "pending"
    },
    "tags": []
   },
   "outputs": [],
   "source": [
    "# Now, let's do exploratory analysis\n",
    "# calculate the mean of ride length for all types of users\n",
    "Cyclistic_data.ride_length.describe(datetime_is_numeric=True)"
   ]
  },
  {
   "cell_type": "code",
   "execution_count": null,
   "id": "7c56b218",
   "metadata": {
    "papermill": {
     "duration": null,
     "end_time": null,
     "exception": null,
     "start_time": null,
     "status": "pending"
    },
    "tags": []
   },
   "outputs": [],
   "source": [
    "# filtered the negative values\n",
    "negative_duration = Cyclistic_data['ride_length'] < '00:00:00'\n",
    "# showing the number of negative time duration\n",
    "Cyclistic_data[negative_duration].count()"
   ]
  },
  {
   "cell_type": "code",
   "execution_count": null,
   "id": "f4c4bd9b",
   "metadata": {
    "papermill": {
     "duration": null,
     "end_time": null,
     "exception": null,
     "start_time": null,
     "status": "pending"
    },
    "tags": []
   },
   "outputs": [],
   "source": [
    "# removing the negative duration\n",
    "Cyclistic_data.drop(Cyclistic_data[negative_duration].index, inplace=True)"
   ]
  },
  {
   "cell_type": "code",
   "execution_count": null,
   "id": "c037028e",
   "metadata": {
    "papermill": {
     "duration": null,
     "end_time": null,
     "exception": null,
     "start_time": null,
     "status": "pending"
    },
    "tags": []
   },
   "outputs": [],
   "source": [
    "# filtering the ride length for members\n",
    "member_filter = Cyclistic_data['member_casual'] == 'member'\n",
    "Cyclistic_data[member_filter].ride_length.describe()\n"
   ]
  },
  {
   "cell_type": "code",
   "execution_count": null,
   "id": "e04b2d22",
   "metadata": {
    "papermill": {
     "duration": null,
     "end_time": null,
     "exception": null,
     "start_time": null,
     "status": "pending"
    },
    "tags": []
   },
   "outputs": [],
   "source": [
    "# filtering the ride length for casual riders\n",
    "Cyclistic_data[~member_filter].ride_length.describe()"
   ]
  },
  {
   "cell_type": "code",
   "execution_count": null,
   "id": "fc651687",
   "metadata": {
    "papermill": {
     "duration": null,
     "end_time": null,
     "exception": null,
     "start_time": null,
     "status": "pending"
    },
    "tags": []
   },
   "outputs": [],
   "source": [
    "# calculate the mode of week-day of all users \n",
    "mode_week_day = Cyclistic_data['day_name'].mode()\n",
    "mode_week_day"
   ]
  },
  {
   "cell_type": "code",
   "execution_count": null,
   "id": "581ed33f",
   "metadata": {
    "papermill": {
     "duration": null,
     "end_time": null,
     "exception": null,
     "start_time": null,
     "status": "pending"
    },
    "tags": []
   },
   "outputs": [],
   "source": [
    "# calculte the mode of week-day of members\n",
    "mode_week_day_member = Cyclistic_data[Cyclistic_data['member_casual'] == 'member']\n",
    "mode_week_day_member = mode_week_day_member['day_name'].mode()\n",
    "mode_week_day_member"
   ]
  },
  {
   "cell_type": "code",
   "execution_count": null,
   "id": "bae035b5",
   "metadata": {
    "papermill": {
     "duration": null,
     "end_time": null,
     "exception": null,
     "start_time": null,
     "status": "pending"
    },
    "tags": []
   },
   "outputs": [],
   "source": [
    "# calculate the mode of the week-day of casual riders\n",
    "mode_week_day_casual = Cyclistic_data[Cyclistic_data['member_casual'] == 'casual']\n",
    "mode_week_day_casual = mode_week_day_casual['day_name'].mode()\n",
    "mode_week_day_casual"
   ]
  },
  {
   "cell_type": "code",
   "execution_count": null,
   "id": "f46dd808",
   "metadata": {
    "papermill": {
     "duration": null,
     "end_time": null,
     "exception": null,
     "start_time": null,
     "status": "pending"
    },
    "tags": []
   },
   "outputs": [],
   "source": [
    "# calculate the no. of rides by users in a week by adding Count of ride_id to values\n",
    "count_users = Cyclistic_data.groupby('day_name')['ride_id'].count()\n",
    "count_users = count_users.sort_index()\n",
    "count_users\n"
   ]
  },
  {
   "cell_type": "code",
   "execution_count": null,
   "id": "ad69ce12",
   "metadata": {
    "papermill": {
     "duration": null,
     "end_time": null,
     "exception": null,
     "start_time": null,
     "status": "pending"
    },
    "tags": []
   },
   "outputs": [],
   "source": [
    "# calculate the no. of rides by members in a week\n",
    "count_members = Cyclistic_data[Cyclistic_data['member_casual'] == 'member'].groupby('day_name')['ride_id'].count()\n",
    "count_members"
   ]
  },
  {
   "cell_type": "code",
   "execution_count": null,
   "id": "dc0bedd6",
   "metadata": {
    "papermill": {
     "duration": null,
     "end_time": null,
     "exception": null,
     "start_time": null,
     "status": "pending"
    },
    "tags": []
   },
   "outputs": [],
   "source": [
    "# calculate the no. of rides by casual riders in a week\n",
    "count_casual = Cyclistic_data[Cyclistic_data['member_casual'] == 'casual'].groupby('day_name')['ride_id'].count()\n",
    "count_casual"
   ]
  },
  {
   "cell_type": "code",
   "execution_count": null,
   "id": "a99e4928",
   "metadata": {
    "papermill": {
     "duration": null,
     "end_time": null,
     "exception": null,
     "start_time": null,
     "status": "pending"
    },
    "tags": []
   },
   "outputs": [],
   "source": [
    "# Visualization Process\n",
    "# plot the graph for number of rides by casual riders and annual members \n",
    "plt.figure(figsize = (10,8))\n",
    "plt.plot(count_casual.index, count_casual.values)\n",
    "plt.plot(count_members.index, count_members.values)\n",
    "plt.title('Calculate the number of rides by Annual Members and Casual Riders')\n",
    "plt.legend(['members', 'casual'])\n",
    "labels = ['Sunday', 'Monday', 'Tuesday', 'Wednesday', 'Thursday', 'Friday', 'Saturday']\n",
    "plt.xticks(count_casual.index, labels)\n",
    "plt.show()\n"
   ]
  },
  {
   "cell_type": "code",
   "execution_count": null,
   "id": "82b3eab2",
   "metadata": {
    "papermill": {
     "duration": null,
     "end_time": null,
     "exception": null,
     "start_time": null,
     "status": "pending"
    },
    "tags": []
   },
   "outputs": [],
   "source": [
    "#calculate the average ride length for all the users in a week\n",
    "user_avg_rides = Cyclistic_data.groupby('day_name')['ride_length'].mean(numeric_only=False)\n",
    "user_avg_rides\n"
   ]
  },
  {
   "cell_type": "code",
   "execution_count": null,
   "id": "c5753ae9",
   "metadata": {
    "papermill": {
     "duration": null,
     "end_time": null,
     "exception": null,
     "start_time": null,
     "status": "pending"
    },
    "tags": []
   },
   "outputs": [],
   "source": [
    "#calculate the average ride length for all the members in a week\n",
    "\n",
    "user_avg_members = Cyclistic_data[Cyclistic_data['member_casual'] == 'member'].groupby('day_name')['ride_length'].mean(numeric_only = False)\n",
    "user_avg_members\n"
   ]
  },
  {
   "cell_type": "code",
   "execution_count": null,
   "id": "d2a0f534",
   "metadata": {
    "papermill": {
     "duration": null,
     "end_time": null,
     "exception": null,
     "start_time": null,
     "status": "pending"
    },
    "tags": []
   },
   "outputs": [],
   "source": [
    "# calculate the average ride length for casual_riders in a week\n",
    "user_avg_casual = Cyclistic_data[Cyclistic_data['member_casual'] == 'casual'].groupby('day_name')['ride_length'].mean(numeric_only=False)\n",
    "user_avg_casual \n"
   ]
  },
  {
   "cell_type": "code",
   "execution_count": null,
   "id": "5e8604d2",
   "metadata": {
    "papermill": {
     "duration": null,
     "end_time": null,
     "exception": null,
     "start_time": null,
     "status": "pending"
    },
    "tags": []
   },
   "outputs": [],
   "source": [
    "# plot the average ride_length for different users during the week\n",
    "plt.figure(figsize = (10,6))\n",
    "plt.plot(user_avg_members/pd.Timedelta(minutes=1))\n",
    "plt.plot(user_avg_casual/pd.Timedelta(minutes=1))\n",
    "plt.title('The average ride duration for both user types during the week')\n",
    "plt.legend(['members', 'casual'])\n",
    "labels = ['Sunday', 'Monday', 'Tuesday', 'Wednesday', 'Thursday', 'Friday', 'Saturday']\n",
    "plt.xticks(user_avg_members.index, labels)\n",
    "plt.show\n"
   ]
  },
  {
   "cell_type": "code",
   "execution_count": null,
   "id": "8e5e98f8",
   "metadata": {
    "papermill": {
     "duration": null,
     "end_time": null,
     "exception": null,
     "start_time": null,
     "status": "pending"
    },
    "tags": []
   },
   "outputs": [],
   "source": [
    "#number of users in each type for last 12 months\n",
    "user_types = Cyclistic_data['member_casual'].value_counts()\n",
    "user_types"
   ]
  },
  {
   "cell_type": "code",
   "execution_count": null,
   "id": "ff74400e",
   "metadata": {
    "papermill": {
     "duration": null,
     "end_time": null,
     "exception": null,
     "start_time": null,
     "status": "pending"
    },
    "tags": []
   },
   "outputs": [],
   "source": [
    "# to plot the bar chart of the number of users in each type over the past 12 months\n",
    "\n",
    "plt.title('count of users in each type')\n",
    "plt.bar(user_types.index, user_types.values)\n",
    "plt.show()"
   ]
  },
  {
   "cell_type": "code",
   "execution_count": null,
   "id": "566d826a",
   "metadata": {
    "papermill": {
     "duration": null,
     "end_time": null,
     "exception": null,
     "start_time": null,
     "status": "pending"
    },
    "tags": []
   },
   "outputs": [],
   "source": [
    "# to plot the pie chart of users in each type \n",
    "plt.figure(figsize = (9,6))\n",
    "plt.pie(user_types.values, labels= user_types.index, autopct= '%1.1f%%')\n",
    "plt.legend(user_types.index)\n",
    "plt.show\n",
    "plt.title('Pie Chart of users in each type')"
   ]
  },
  {
   "cell_type": "code",
   "execution_count": null,
   "id": "e3380e18",
   "metadata": {
    "papermill": {
     "duration": null,
     "end_time": null,
     "exception": null,
     "start_time": null,
     "status": "pending"
    },
    "scrolled": true,
    "tags": []
   },
   "outputs": [],
   "source": [
    "# To check the amount of users for a particular ride_type\n",
    "ride_type = Cyclistic_data.groupby('member_casual')['rideable_type'].value_counts()\n",
    "ride_type"
   ]
  },
  {
   "cell_type": "code",
   "execution_count": null,
   "id": "1ffa5f68",
   "metadata": {
    "papermill": {
     "duration": null,
     "end_time": null,
     "exception": null,
     "start_time": null,
     "status": "pending"
    },
    "tags": []
   },
   "outputs": [],
   "source": [
    "# to separate the number of users into members and casual riders based on ride type\n",
    "\n",
    "list_member = []\n",
    "list_x = []\n",
    "list_y = list(ride_type.values)\n",
    "for i, j in ride_type.index:\n",
    "    list_x.append(j)\n",
    "    list_member.append(str(i))\n"
   ]
  },
  {
   "cell_type": "code",
   "execution_count": null,
   "id": "bef1db9e",
   "metadata": {
    "papermill": {
     "duration": null,
     "end_time": null,
     "exception": null,
     "start_time": null,
     "status": "pending"
    },
    "tags": []
   },
   "outputs": [],
   "source": [
    "# to plot the number of users into members and casual riders based on rider type\n",
    "plt.figure(figsize=(12,8))\n",
    "sns.barplot(list_x, list_y, hue=list_member)\n",
    "plt.title('Casual riders and Members over the months based on ride_type')"
   ]
  },
  {
   "cell_type": "code",
   "execution_count": null,
   "id": "4f3adea3",
   "metadata": {
    "papermill": {
     "duration": null,
     "end_time": null,
     "exception": null,
     "start_time": null,
     "status": "pending"
    },
    "tags": []
   },
   "outputs": [],
   "source": [
    "#to seperate the number of users into members and casual over year\n",
    "users_over_year = Cyclistic_data.groupby('year')['member_casual'].value_counts()\n",
    "users_over_year \n"
   ]
  },
  {
   "cell_type": "code",
   "execution_count": null,
   "id": "208edfe1",
   "metadata": {
    "papermill": {
     "duration": null,
     "end_time": null,
     "exception": null,
     "start_time": null,
     "status": "pending"
    },
    "tags": []
   },
   "outputs": [],
   "source": [
    "# to get the total amount of users in each category per month\n",
    "users_over_month = Cyclistic_data.groupby('month')['member_casual'].value_counts()\n",
    "users_over_month"
   ]
  },
  {
   "cell_type": "code",
   "execution_count": null,
   "id": "f0f56bb2",
   "metadata": {
    "papermill": {
     "duration": null,
     "end_time": null,
     "exception": null,
     "start_time": null,
     "status": "pending"
    },
    "tags": []
   },
   "outputs": [],
   "source": [
    "#to seperate te the number of users into members and casual over months\n",
    "list_month = []\n",
    "list_x = []\n",
    "list_y = (users_over_month.values)\n",
    "for i, j in users_over_month.index:\n",
    "    list_x.append(j)\n",
    "    list_month.append(str(i))"
   ]
  },
  {
   "cell_type": "code",
   "execution_count": null,
   "id": "8e95e530",
   "metadata": {
    "papermill": {
     "duration": null,
     "end_time": null,
     "exception": null,
     "start_time": null,
     "status": "pending"
    },
    "tags": []
   },
   "outputs": [],
   "source": [
    "# plot number of members and casual riders\n",
    "plt.figure(figsize= (15,7))\n",
    "sns.barplot(list_x, list_y, hue =list_month)\n",
    "plt.title('number member and casual riders over the months')"
   ]
  },
  {
   "cell_type": "code",
   "execution_count": null,
   "id": "0b01b810",
   "metadata": {
    "papermill": {
     "duration": null,
     "end_time": null,
     "exception": null,
     "start_time": null,
     "status": "pending"
    },
    "tags": []
   },
   "outputs": [],
   "source": []
  }
 ],
 "metadata": {
  "kernelspec": {
   "display_name": "Python 3",
   "language": "python",
   "name": "python3"
  },
  "language_info": {
   "codemirror_mode": {
    "name": "ipython",
    "version": 3
   },
   "file_extension": ".py",
   "mimetype": "text/x-python",
   "name": "python",
   "nbconvert_exporter": "python",
   "pygments_lexer": "ipython3",
   "version": "3.7.12"
  },
  "papermill": {
   "default_parameters": {},
   "duration": 10.329545,
   "end_time": "2023-04-26T17:44:21.959307",
   "environment_variables": {},
   "exception": true,
   "input_path": "__notebook__.ipynb",
   "output_path": "__notebook__.ipynb",
   "parameters": {},
   "start_time": "2023-04-26T17:44:11.629762",
   "version": "2.4.0"
  }
 },
 "nbformat": 4,
 "nbformat_minor": 5
}
